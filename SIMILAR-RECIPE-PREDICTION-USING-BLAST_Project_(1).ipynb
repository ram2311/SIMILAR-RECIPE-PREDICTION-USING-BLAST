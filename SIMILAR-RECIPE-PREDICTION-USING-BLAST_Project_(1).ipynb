{
  "nbformat": 4,
  "nbformat_minor": 0,
  "metadata": {
    "kernelspec": {
      "display_name": "Python 3",
      "language": "python",
      "name": "python3"
    },
    "language_info": {
      "codemirror_mode": {
        "name": "ipython",
        "version": 3
      },
      "file_extension": ".py",
      "mimetype": "text/x-python",
      "name": "python",
      "nbconvert_exporter": "python",
      "pygments_lexer": "ipython3",
      "version": "3.7.0"
    },
    "colab": {
      "name": "CGAS_Project (1).ipynb",
      "provenance": [],
      "include_colab_link": true
    }
  },
  "cells": [
    {
      "cell_type": "markdown",
      "metadata": {
        "id": "view-in-github",
        "colab_type": "text"
      },
      "source": [
        "<a href=\"https://colab.research.google.com/github/ram2311/SIMILAR-RECIPE-PREDICTION-USING-BLAST/blob/main/SIMILAR-RECIPE-PREDICTION-USING-BLAST_Project_(1).ipynb\" target=\"_parent\"><img src=\"https://colab.research.google.com/assets/colab-badge.svg\" alt=\"Open In Colab\"/></a>"
      ]
    },
    {
      "cell_type": "markdown",
      "metadata": {
        "id": "lzPobR8kJWRy"
      },
      "source": [
        "# Similar Recipe Prediction Using  BLAST and Recipe Sequences"
      ]
    },
    {
      "cell_type": "code",
      "metadata": {
        "id": "kH4eeosdJWR7"
      },
      "source": [
        "import json\n",
        "import csv"
      ],
      "execution_count": null,
      "outputs": []
    },
    {
      "cell_type": "markdown",
      "metadata": {
        "id": "lcuJ8t03JWR9"
      },
      "source": [
        "### All required datasets are imported \n",
        "### All the data is taken from Recipedb"
      ]
    },
    {
      "cell_type": "code",
      "metadata": {
        "id": "YSLno_U2JWR-"
      },
      "source": [
        "#B L RAMA KRISHNA_18BIT0175\n",
        "with open(\"C:/Users/varad/Desktop/CGAS_project/recipe_instruc.json\") as jsonfile:\n",
        "    recipe_instruc_main=json.load(jsonfile)\n",
        "\n",
        "recipeid_instruc={}\n",
        "for i in recipe_instruc_main:\n",
        "    recipeid_instruc[int(i['Recipe_id'])]=i['steps'].lower()\n",
        "\n",
        "# recipeid_instruc= data set of recipeId and its cooking instructions"
      ],
      "execution_count": null,
      "outputs": []
    },
    {
      "cell_type": "code",
      "metadata": {
        "scrolled": true,
        "id": "63pn22xNJWR-"
      },
      "source": [
        "with open(\"C:/Users/varad/Desktop/CGAS_project/Ingre_cat.csv\", newline='') as csvfile:\n",
        "    now = csv.DictReader(csvfile)\n",
        "    ingre_cat={}\n",
        "    for row in now:\n",
        "        ingre_cat[row['new_name'].lower()]= row['Dietrx_Category'].lower()\n",
        "\n",
        "## ingre_cat= dataset with ingrediat name vs its corresponding 'Dietrx_Category'"
      ],
      "execution_count": null,
      "outputs": []
    },
    {
      "cell_type": "code",
      "metadata": {
        "id": "AGVwQtj8JWR_"
      },
      "source": [
        "with open(\"C:/Users/varad/Desktop/CGAS_project/Recipe_small.csv\", newline='', encoding='utf-8') as csvfile:\n",
        "    now = csv.DictReader(csvfile)\n",
        "    recipeid_name={}\n",
        "    for row in now:\n",
        "        recipeid_name[int(row['Recipe_id'])]= row['Recipe_title']\n",
        "\n",
        "#recipeid_name= dataset with recipe Id vs Recipe name"
      ],
      "execution_count": null,
      "outputs": []
    },
    {
      "cell_type": "code",
      "metadata": {
        "id": "tdnPsEWFJWSA"
      },
      "source": [
        "with open(\"C:/Users/varad/Desktop/CGAS_project/recipe_ingre.csv\", newline='') as csvfile:\n",
        "    now = csv.DictReader(csvfile)\n",
        "    recipeid_ingre={}\n",
        "    for row in now:\n",
        "        idno=int(row['recipe_no'])\n",
        "        ingre=row['ingredient'].lower()\n",
        "        if(idno in recipeid_ingre):\n",
        "            recipeid_ingre[idno].append(ingre)\n",
        "        else:\n",
        "            recipeid_ingre[idno]=[]\n",
        "            recipeid_ingre[idno].append(ingre)\n",
        "            \n",
        "#recipeid_ingre= dataset of recipe Id vs set of ingrediants used"
      ],
      "execution_count": null,
      "outputs": []
    },
    {
      "cell_type": "markdown",
      "metadata": {
        "id": "wMYlq1UjJWSB"
      },
      "source": [
        "### ingre_categories is the list all categories present"
      ]
    },
    {
      "cell_type": "code",
      "metadata": {
        "id": "zWtz3PSQJWSB"
      },
      "source": [
        "ingre_categories=[]\n",
        "\n",
        "for i in ingre_cat:\n",
        "    now=ingre_cat[i]\n",
        "    if now not in ingre_categories:\n",
        "        ingre_categories.append(now)\n"
      ],
      "execution_count": null,
      "outputs": []
    },
    {
      "cell_type": "code",
      "metadata": {
        "id": "vzNW8U_FJWSC",
        "outputId": "2879e7dd-14d2-44c5-e033-59fae398b6a5"
      },
      "source": [
        "print(sorted(ingre_categories))"
      ],
      "execution_count": null,
      "outputs": [
        {
          "output_type": "stream",
          "text": [
            "['', 'additive', 'additive-salt', 'additive-sugar', 'additive-vinegar', 'additive-yeast', 'bakery', 'beverage', 'beverage-alcoholic', 'cereal', 'condiment', 'dairy', 'dish', 'essential oil', 'fish', 'flower', 'fruit', 'fungi', 'herb', 'legume', 'maize', 'meat', 'misc-other', 'misc-utensil', 'nuts and seeds', 'plant', 'plant derivative', 'seafood', 'spice', 'vegetable']\n"
          ],
          "name": "stdout"
        }
      ]
    },
    {
      "cell_type": "code",
      "metadata": {
        "id": "Mg8F9KZ2JWSD"
      },
      "source": [
        "sign_assg={'':'a','additive':'b','additive-salt':'c','additive-sugar':'d','additive-vinegar':'e','additive-yeast':'f','bakery':'g','beverage':'h','beverage-alcoholic':'i','cereal':'j','condiment':'k','dairy':'l','dish':'m','essential oil':'n','fish':'o','flower':'p','fruit':'q','fungi':'r','herb':'s','legume':'t','maize':'u','meat':'v','misc-other':'w','misc-utensil':'x','nuts and seeds':'y','plant':'z','plant derivative':'%','seafood':'$','spice':'&','vegetable':'!'}"
      ],
      "execution_count": null,
      "outputs": []
    },
    {
      "cell_type": "markdown",
      "metadata": {
        "id": "KaQUrwU6JWSD"
      },
      "source": [
        "### symbols are assigned to each category as below"
      ]
    },
    {
      "cell_type": "code",
      "metadata": {
        "id": "Nc_vvF1iJWSE",
        "outputId": "624eb4f0-6e03-49b2-e064-14676b973ce7"
      },
      "source": [
        "print(sign_assg)"
      ],
      "execution_count": null,
      "outputs": [
        {
          "output_type": "stream",
          "text": [
            "{'': 'a', 'additive': 'b', 'additive-salt': 'c', 'additive-sugar': 'd', 'additive-vinegar': 'e', 'additive-yeast': 'f', 'bakery': 'g', 'beverage': 'h', 'beverage-alcoholic': 'i', 'cereal': 'j', 'condiment': 'k', 'dairy': 'l', 'dish': 'm', 'essential oil': 'n', 'fish': 'o', 'flower': 'p', 'fruit': 'q', 'fungi': 'r', 'herb': 's', 'legume': 't', 'maize': 'u', 'meat': 'v', 'misc-other': 'w', 'misc-utensil': 'x', 'nuts and seeds': 'y', 'plant': 'z', 'plant derivative': '%', 'seafood': '$', 'spice': '&', 'vegetable': '!'}\n"
          ],
          "name": "stdout"
        }
      ]
    },
    {
      "cell_type": "markdown",
      "metadata": {
        "id": "I9YohoQCJWSE"
      },
      "source": [
        "#### The two fnctions below are used for generating sequences for each recipe"
      ]
    },
    {
      "cell_type": "code",
      "metadata": {
        "id": "omcYO3AAJWSE"
      },
      "source": [
        "def final_seq(ings,ingre_cat,sign_assg):\n",
        "    out=''\n",
        "    for i in ings:\n",
        "        #con=0\n",
        "        now=''\n",
        "        if(i in ingre_cat):\n",
        "            now=sign_assg[ingre_cat[i]]\n",
        "        else:\n",
        "            now='a'\n",
        "        \n",
        "        out=out+now\n",
        "    return(out)"
      ],
      "execution_count": null,
      "outputs": []
    },
    {
      "cell_type": "code",
      "metadata": {
        "id": "yiN6olBLJWSF"
      },
      "source": [
        "def make_seq(ing_seq,ins_seq,ingre_cat,sign_assg):\n",
        "    count_ing=[]\n",
        "    for i in ing_seq:\n",
        "        count_ing.append([ins_seq.find(i),i])\n",
        "    count_ing.sort()\n",
        "    now=[]\n",
        "    for i in count_ing:\n",
        "        now.append(i[1])\n",
        "    return(final_seq(now,ingre_cat,sign_assg))"
      ],
      "execution_count": null,
      "outputs": []
    },
    {
      "cell_type": "code",
      "metadata": {
        "id": "hIooupEYJWSF"
      },
      "source": [
        "###-------------------------------------------"
      ],
      "execution_count": null,
      "outputs": []
    },
    {
      "cell_type": "markdown",
      "metadata": {
        "id": "ENVfAHTjJWSG"
      },
      "source": [
        "#### recipeid_seq is the dataset with recipe id and its corresponding sequence generated"
      ]
    },
    {
      "cell_type": "code",
      "metadata": {
        "id": "qyqrNU99JWSG"
      },
      "source": [
        "recipeid_seq={}\n",
        "for i in recipeid_ingre:\n",
        "    now=recipeid_ingre[i]\n",
        "    if i in recipeid_instruc:\n",
        "        noww=make_seq(now,recipeid_instruc[i],ingre_cat,sign_assg)\n",
        "    else:\n",
        "        noww=final_seq(now,ingre_cat,sign_assg)\n",
        "    recipeid_seq[i]=noww"
      ],
      "execution_count": null,
      "outputs": []
    },
    {
      "cell_type": "code",
      "metadata": {
        "id": "7HmWUP2DJWSH",
        "outputId": "7bce30ca-1ef0-4dbe-b5d3-a2f826673be5"
      },
      "source": [
        "len(recipeid_seq)"
      ],
      "execution_count": null,
      "outputs": [
        {
          "output_type": "execute_result",
          "data": {
            "text/plain": [
              "118112"
            ]
          },
          "metadata": {
            "tags": []
          },
          "execution_count": 18
        }
      ]
    },
    {
      "cell_type": "markdown",
      "metadata": {
        "id": "qF1TnUjPJWSH"
      },
      "source": [
        "#### Example of some of the sequences produced and its corresponding id"
      ]
    },
    {
      "cell_type": "code",
      "metadata": {
        "id": "4xdVVJqaJWSI",
        "outputId": "5867abf0-c06e-4a5e-e861-181f47292ecc"
      },
      "source": [
        "dd=0\n",
        "for i in recipeid_seq:\n",
        "    dd+=1\n",
        "    if(dd<11):\n",
        "        print(i,recipeid_seq[i])"
      ],
      "execution_count": null,
      "outputs": [
        {
          "output_type": "stream",
          "text": [
            "2610 &t!aa!!s&cs\n",
            "2611 a&%!!sv&z\n",
            "2612 v&%!ka!\n",
            "2613 !%%tluus&sck\n",
            "2614 &scyj&\n",
            "2615 gdyyyqhll\n",
            "2616 vj%jl!lhcy\n",
            "2617 &j!mmac&%ys$z\n",
            "2618 t&!!%&&h!\n",
            "2619 tjmje&!ts!&aa%s!lv\n"
          ],
          "name": "stdout"
        }
      ]
    },
    {
      "cell_type": "code",
      "metadata": {
        "scrolled": false,
        "id": "u8NsuS3uJWSI"
      },
      "source": [
        "#B L RAMA KRISHNA_18BIT0175\n",
        "## Blast-----------------"
      ],
      "execution_count": null,
      "outputs": []
    },
    {
      "cell_type": "markdown",
      "metadata": {
        "id": "hYQJ-rUEJWSI"
      },
      "source": [
        "#### \"score\" function is used for scoring two sequences based on their best local allignment"
      ]
    },
    {
      "cell_type": "code",
      "metadata": {
        "id": "Rp0sk3E4JWSI"
      },
      "source": [
        "### Simple match and miss match is cnsidered for scoring in Blast\n",
        "def score(a_que,b_data,scor,query,data,w,match,mis,T):\n",
        "    left=a_que\n",
        "    right=a_que+(w-1)\n",
        "    left_data=b_data\n",
        "    right_data=b_data+(w-1)\n",
        "    best=-1\n",
        "    while((left-1)>=0 & (left_data-1)>=0):\n",
        "        left-=1\n",
        "        left_data-=1\n",
        "        if(query[left]==data[left_data]):\n",
        "            scor+=match\n",
        "            if(scor>best):\n",
        "                best=scor\n",
        "        elif(query[left]!=data[left_data]):\n",
        "            scor+=mis\n",
        "            if (scor<T):\n",
        "                scor-=mis\n",
        "                break\n",
        "    \n",
        "    while (((right+1)<len(query)) & ((right_data+1)<len(data))):\n",
        "        right+=1\n",
        "        right_data +=1\n",
        "        if(query[right]==data[right_data]):\n",
        "            scor+=match\n",
        "            if(scor>best):\n",
        "                best=scor\n",
        "        elif(query[right]!=data[right_data]):\n",
        "            scor+=mis\n",
        "            if (scor<T):\n",
        "                scor-=mis\n",
        "                break\n",
        "    return (left,right,left_data,right_data,scor,best)"
      ],
      "execution_count": null,
      "outputs": []
    },
    {
      "cell_type": "markdown",
      "metadata": {
        "id": "Mo1QXHr6JWSJ"
      },
      "source": [
        "#### The next 2 functions are used for generating Binary Search Tree''s to minimize time complexity while searching in Blast"
      ]
    },
    {
      "cell_type": "code",
      "metadata": {
        "id": "zIU_syx4JWSJ"
      },
      "source": [
        "# Making binary search tree of the data sequence\n",
        "def make_bst(a,memo):\n",
        "    if (len(a)<=0):\n",
        "        return None\n",
        "    else:\n",
        "        now=len(a)//2\n",
        "        root=Node(a[now],memo[a[now]])\n",
        "        root.left=make_bst(a[:now],memo)\n",
        "        root.right=make_bst(a[now+1:],memo)\n",
        "        return (root)\n"
      ],
      "execution_count": null,
      "outputs": []
    },
    {
      "cell_type": "code",
      "metadata": {
        "id": "UWw6iU5TJWSK"
      },
      "source": [
        "def search_bst(a,r):\n",
        "    if(r==None):\n",
        "        return (None)\n",
        "    elif (r.val==a):\n",
        "        return (r.keys)\n",
        "    elif(r.val>a):\n",
        "        return (search_bst(a,r.left))\n",
        "    else:\n",
        "        return (search_bst(a,r.right))"
      ],
      "execution_count": null,
      "outputs": []
    },
    {
      "cell_type": "markdown",
      "metadata": {
        "id": "e02TW9F5JWSK"
      },
      "source": [
        "#### Main Blast function take one sequence and the whole dataset of recipeid vs its sequence generated,\n",
        "#### outputs the its best alignment score. Corresponding K-mer length[w], Threshold score(T), match score(match), miss match score(miss) "
      ]
    },
    {
      "cell_type": "code",
      "metadata": {
        "id": "2YHE7lcgJWSK"
      },
      "source": [
        "#VaradaRaghunathSaiPranav_2018418\n",
        "def blastt(query,data,w,T,match,miss):\n",
        "    w_list=[]\n",
        "    for i in range(len(query)-w+1):\n",
        "        w_list.append(query[i:i+w])\n",
        "    \n",
        "    dic_val_data={}\n",
        "\n",
        "    for i in range(len(data)-w+1):\n",
        "        temp=hash(data[i:i+w])\n",
        "        if(temp in dic_val_data):\n",
        "            dic_val_data[temp].append(i)\n",
        "        else:\n",
        "            dic_val_data[temp]=[i]\n",
        "\n",
        "    dic_val_data_keys=list(dic_val_data.keys())\n",
        "    dic_val_data_keys.sort()\n",
        "    \n",
        "    data_bst=make_bst(dic_val_data_keys,dic_val_data)\n",
        "    \n",
        "    update_final=[]\n",
        "    for i in range(len(query)-w+1):\n",
        "        temp=hash(query[i:i+w])\n",
        "        anss=search_bst(temp,data_bst)\n",
        "        if(anss is not None):\n",
        "            for j in anss:\n",
        "                now=list(score(i,j,w*match,query,data,w,match,miss,T))\n",
        "                if((now not in update_final) & (now[-1]>=T)):\n",
        "                    update_final.append(now[-1])         \n",
        "    return(update_final)"
      ],
      "execution_count": null,
      "outputs": []
    },
    {
      "cell_type": "code",
      "metadata": {
        "id": "x1a0gblcJWSM"
      },
      "source": [
        "class Node:\n",
        "    def __init__(self,val,keys):\n",
        "        self.left=None\n",
        "        self.right=None\n",
        "        self.val=val\n",
        "        self.keys=keys"
      ],
      "execution_count": null,
      "outputs": []
    },
    {
      "cell_type": "code",
      "metadata": {
        "id": "1JRtJTguJWSM"
      },
      "source": [
        "def first_do(a,data,w,T,match,miss):\n",
        "    out={}\n",
        "    for i in data:\n",
        "        k=blastt(a,data[i],w,T,match,miss)\n",
        "        if(len(k)>0):\n",
        "            out[i]=max(k)\n",
        "    return(out)"
      ],
      "execution_count": null,
      "outputs": []
    },
    {
      "cell_type": "markdown",
      "metadata": {
        "id": "ruz7G_LPJWSM"
      },
      "source": [
        "#### Define the variables below to customize the search.\n",
        "#### Default demo values are already set"
      ]
    },
    {
      "cell_type": "code",
      "metadata": {
        "id": "Ijp6OsDGJWSM"
      },
      "source": [
        "input_sequence_id=18773\n",
        "kmer_length=5\n",
        "Treshold_score=6\n",
        "match_match_score=1\n",
        "miss_match_score=-1"
      ],
      "execution_count": null,
      "outputs": []
    },
    {
      "cell_type": "code",
      "metadata": {
        "id": "FNQlhqjzJWSN",
        "outputId": "4e516d16-865b-41a7-9f64-ad6cc9f65144"
      },
      "source": [
        "#first_do(input_sequence,data of sequences,kmer length=w,Treshold=T,match,miss)\n",
        "out=first_do(recipeid_seq[input_sequence_id],recipeid_seq,kmer_length,Treshold_score,match_match_score,miss_match_score)\n",
        "ppp=[]\n",
        "for i in out:\n",
        "    ppp.append([out[i],i])\n",
        "ppp.sort()\n",
        "print(\"Total No of alignments with Treshold as 'T'=\",len(ppp))"
      ],
      "execution_count": null,
      "outputs": [
        {
          "output_type": "stream",
          "text": [
            "Total No of alignments with Treshold as 'T'= 34\n"
          ],
          "name": "stdout"
        }
      ]
    },
    {
      "cell_type": "markdown",
      "metadata": {
        "id": "Uyex7CTOJWSN"
      },
      "source": [
        "#### Top n matchs, n being user defined.\n",
        "#### Note: The first top match will be of itself"
      ]
    },
    {
      "cell_type": "code",
      "metadata": {
        "scrolled": true,
        "id": "ojaSBwx3JWSN",
        "outputId": "466fc445-6b62-464b-dc5b-3bc248b76f50"
      },
      "source": [
        "n=10\n",
        "for i in ppp[::-1]:\n",
        "    if(n>0):\n",
        "        print(\"Score=\"+str(i[0]),recipeid_name[i[1]],i[1])\n",
        "        n-=1"
      ],
      "execution_count": null,
      "outputs": [
        {
          "output_type": "stream",
          "text": [
            "Score=12 Lunchbox Cookies 18773\n",
            "Score=8 Sinful Brown Butter Nutella Stuffed Chocolate Chip Cookies 143707\n",
            "Score=7 Chocolate Fudge Cookies With Toffee & Dried Cherries 143170\n",
            "Score=7 Rhubarb Muffins 142641\n",
            "Score=7 Mint Irish Cream Cookies 136197\n",
            "Score=7 St. Patrick's Shamrock Sugar Cookies 134766\n",
            "Score=7 Hazelnut Chocolate Chip Cookies 122587\n",
            "Score=7 Pumpkin Polenta Cake 121331\n",
            "Score=7 Cinnamon Shortcakes 102982\n",
            "Score=7 Earl Grey Tea Cookies 102463\n"
          ],
          "name": "stdout"
        }
      ]
    }
  ]
}